{
  "nbformat": 4,
  "nbformat_minor": 0,
  "metadata": {
    "colab": {
      "provenance": [],
      "include_colab_link": true
    },
    "kernelspec": {
      "name": "python3",
      "display_name": "Python 3"
    },
    "language_info": {
      "name": "python"
    }
  },
  "cells": [
    {
      "cell_type": "markdown",
      "metadata": {
        "id": "view-in-github",
        "colab_type": "text"
      },
      "source": [
        "<a href=\"https://colab.research.google.com/github/divyatridhara/coding_solutions/blob/main/Daily_Tasks.ipynb\" target=\"_parent\"><img src=\"https://colab.research.google.com/assets/colab-badge.svg\" alt=\"Open In Colab\"/></a>"
      ]
    },
    {
      "cell_type": "markdown",
      "source": [
        "## **Task-1**"
      ],
      "metadata": {
        "id": "eUHhsiq2EeBJ"
      }
    },
    {
      "cell_type": "code",
      "execution_count": null,
      "metadata": {
        "colab": {
          "base_uri": "https://localhost:8080/"
        },
        "id": "75PSQCfQYp4m",
        "outputId": "7562b885-d812-4027-cd19-55b753ff165c"
      },
      "outputs": [
        {
          "output_type": "stream",
          "name": "stdout",
          "text": [
            "7\n",
            "2\n",
            "8\n",
            "1 2 3 4 5 6 7 8\n",
            "5\n"
          ]
        }
      ],
      "source": [
        "r= int(input())\n",
        "unit = int(input())\n",
        "n = int(input())\n",
        "arr = list(map(int, input().split()))\n",
        "total_food = r * unit\n",
        "sum = 0\n",
        "for i in range(n):\n",
        "    sum += arr[i]\n",
        "    if sum >= total_food:\n",
        "        break\n",
        "print(i + 1)"
      ]
    },
    {
      "cell_type": "markdown",
      "source": [
        "## **Task-2**"
      ],
      "metadata": {
        "id": "IxI43jc9Emhx"
      }
    },
    {
      "cell_type": "code",
      "source": [
        "a = input()\n",
        "if len(a) == 0:\n",
        "    print(-1)\n",
        "    exit()\n",
        "ans = int(a[0])\n",
        "for i in range(1, len(a), 2):\n",
        "    op = a[i]\n",
        "    digi = int(a[i + 1])\n",
        "    if op == 'A':\n",
        "        ans &= digi\n",
        "    elif op == 'B':\n",
        "        ans |= digi\n",
        "    elif op == 'C':\n",
        "        ans ^= digi\n",
        "print(ans)\n"
      ],
      "metadata": {
        "id": "PvGwhm-SEtz1",
        "colab": {
          "base_uri": "https://localhost:8080/"
        },
        "outputId": "392e1257-be02-4e96-e296-66754e2bb759"
      },
      "execution_count": null,
      "outputs": [
        {
          "output_type": "stream",
          "name": "stdout",
          "text": [
            "1C0C1C1A0B1\n",
            "1\n"
          ]
        }
      ]
    },
    {
      "cell_type": "markdown",
      "source": [
        "## **Task-3**"
      ],
      "metadata": {
        "id": "ZPap8FBaJ83j"
      }
    },
    {
      "cell_type": "code",
      "source": [
        "def CheckPassword(password):\n",
        "    n = len(password)\n",
        "    if n < 4 or password[0].isdigit() or ' ' in password or '/' in password:\n",
        "        return 0\n",
        "    numeric_digit = any(char.isdigit() for char in password)\n",
        "    capital_letter = any(char.isupper() for char in password)\n",
        "    return int(numeric_digit and capital_letter)\n",
        "\n",
        "print(CheckPassword(\"9\"))\n",
        "print(CheckPassword(\"a 7/89\"))\n",
        "print(CheckPassword(\"bC1A\"))\n"
      ],
      "metadata": {
        "id": "4pijXDQqKBo5",
        "colab": {
          "base_uri": "https://localhost:8080/"
        },
        "outputId": "307dc55b-1cb0-4b99-e874-17aef5a56249"
      },
      "execution_count": null,
      "outputs": [
        {
          "output_type": "stream",
          "name": "stdout",
          "text": [
            "0\n",
            "0\n",
            "1\n"
          ]
        }
      ]
    },
    {
      "cell_type": "markdown",
      "source": [
        "## **Task-4**"
      ],
      "metadata": {
        "id": "7hXO3sj8Ns2K"
      }
    },
    {
      "cell_type": "code",
      "source": [
        "def findcount(arr,num,diff):\n",
        "  count=0\n",
        "\n",
        "  for i in range(len(arr)):\n",
        "    a=abs(arr[i]-num)\n",
        "    if a<=diff:\n",
        "      count+=1\n",
        "  if count==0:\n",
        "    return -1\n",
        "  else:\n",
        "    return count\n",
        "arr=list(map(int,input().split()))\n",
        "num=int(input())\n",
        "diff=int(input())\n",
        "print(findcount(arr,num,diff))\n",
        "\n"
      ],
      "metadata": {
        "colab": {
          "base_uri": "https://localhost:8080/"
        },
        "id": "8Agh3AgCNylm",
        "outputId": "efb64f66-626f-4785-a443-07d76054c720"
      },
      "execution_count": null,
      "outputs": [
        {
          "output_type": "stream",
          "name": "stdout",
          "text": [
            "2 3 4 5 6 7 8\n",
            "4\n",
            "6\n",
            "7\n"
          ]
        }
      ]
    },
    {
      "cell_type": "markdown",
      "source": [
        "## **Task-5**"
      ],
      "metadata": {
        "id": "XjFUIzx8WRlM"
      }
    },
    {
      "cell_type": "code",
      "source": [
        "def differenceofSum(n, m):\n",
        "    divisible = 0\n",
        "    not_divisible = 0\n",
        "    for num in range(1, m+1):\n",
        "        if num % n == 0:\n",
        "            divisible += num\n",
        "        else:\n",
        "            not_divisible += num\n",
        "    return not_divisible - divisible\n",
        "n = int(input())\n",
        "m = int(input())\n",
        "result = differenceofSum(n, m)\n",
        "print(result)"
      ],
      "metadata": {
        "colab": {
          "base_uri": "https://localhost:8080/"
        },
        "id": "rfn1Ww2MWV-G",
        "outputId": "c43c93bb-d735-421a-abd3-b44fdeb16923"
      },
      "execution_count": null,
      "outputs": [
        {
          "output_type": "stream",
          "name": "stdout",
          "text": [
            "4\n",
            "20\n",
            "90\n"
          ]
        }
      ]
    },
    {
      "cell_type": "markdown",
      "source": [
        "## **Task-6**"
      ],
      "metadata": {
        "id": "UF1Ub10BUaHI"
      }
    },
    {
      "cell_type": "code",
      "source": [
        "def LargeSmallSum(arr):\n",
        "    if len(arr)<= 3:\n",
        "        return 0\n",
        "    max1,max2 = arr[0], arr[0] #even number\n",
        "    min1,min2 = arr[1], arr[1] #odd number\n",
        "    for i in range(2,len(arr)):\n",
        "        if i % 2 == 0:\n",
        "            if arr[i]>max1:\n",
        "                max2=max1\n",
        "                max1=arr[i]\n",
        "            elif arr[i]>max2:\n",
        "                max2=arr[i]\n",
        "        else:\n",
        "            if arr[i]<min1:\n",
        "                min2=min1\n",
        "                min1=arr[i]\n",
        "            elif arr[i]<min2:\n",
        "                min2=arr[i]\n",
        "    return max2 + min2\n",
        "input_str = input()\n",
        "arr = list(map(int, input_str.split()))\n",
        "result = LargeSmallSum(arr)\n",
        "print(result)"
      ],
      "metadata": {
        "colab": {
          "base_uri": "https://localhost:8080/"
        },
        "id": "H-dgKyTEUeOi",
        "outputId": "32c46cf1-2a19-44f5-d61c-01c1ed5f1980"
      },
      "execution_count": null,
      "outputs": [
        {
          "output_type": "stream",
          "name": "stdout",
          "text": [
            "1 8 0 2 3 5 6\n",
            "8\n"
          ]
        }
      ]
    },
    {
      "cell_type": "markdown",
      "source": [
        "## **Task-7**"
      ],
      "metadata": {
        "id": "PANwBz0PDcjA"
      }
    },
    {
      "cell_type": "code",
      "source": [
        "def two_smallest(a):\n",
        "    if len(a)<2:\n",
        "        return -1\n",
        "    smallest=a[0]\n",
        "    second_smallest = a[0]\n",
        "    for num in a[1:]:\n",
        "        if num<smallest:\n",
        "            second_smallest=smallest\n",
        "            smallest=num\n",
        "        elif num<second_smallest:\n",
        "            second_smallest=num\n",
        "    return smallest,second_smallest\n",
        "def SmallestPair(sum,a):\n",
        "    smallest,second_smallest=two_smallest(a)\n",
        "    for i in range(len(a)):\n",
        "        if a[i]+second_smallest<=sum:\n",
        "            return smallest*second_smallest\n",
        "        if a[i]<smallest:\n",
        "            second_smallest=smallest\n",
        "            smallest=a[i]\n",
        "        elif a[i]< second_smallest:\n",
        "            second_smallest=a[i]\n",
        "    return 0\n",
        "sum_input = int(input())\n",
        "size = int(input())\n",
        "arr_input = list(map(int, input().split()))\n",
        "result=SmallestPair(sum_input, arr_input)\n",
        "print(result)\n"
      ],
      "metadata": {
        "id": "B974yrbhDgX_",
        "outputId": "bc5affdc-1c36-4184-9a0e-a083857cca0c",
        "colab": {
          "base_uri": "https://localhost:8080/"
        }
      },
      "execution_count": null,
      "outputs": [
        {
          "output_type": "stream",
          "name": "stdout",
          "text": [
            "9\n",
            "7\n",
            "5 2 4 3 9 7 1\n",
            "2\n"
          ]
        }
      ]
    },
    {
      "cell_type": "markdown",
      "source": [
        "## **Task-8**"
      ],
      "metadata": {
        "id": "7kke_t5vrkF6"
      }
    },
    {
      "cell_type": "code",
      "source": [
        "def DectoNBase(n, num):\n",
        "    if n<=1 or n>36:\n",
        "        return \"Invalid\"\n",
        "    digit=\"0123456789ABCDEFGHIJKLMNOPQRSTUVWXYZ\"\n",
        "    base =\"\"\n",
        "    while num>0:\n",
        "        remainder=num % n\n",
        "        base=digit[remainder]+base\n",
        "        num//=n\n",
        "    return base\n",
        "n=int(input())\n",
        "num=int(input())\n",
        "base=DectoNBase(n, num)\n",
        "print(base)"
      ],
      "metadata": {
        "id": "Ory6A3twrn2i",
        "outputId": "c82ab06e-8b3f-4ebb-c67a-6e59ecf3f952",
        "colab": {
          "base_uri": "https://localhost:8080/"
        }
      },
      "execution_count": null,
      "outputs": [
        {
          "output_type": "stream",
          "name": "stdout",
          "text": [
            "12\n",
            "718\n",
            "4BA\n"
          ]
        }
      ]
    },
    {
      "cell_type": "markdown",
      "source": [
        "## **Task-9**"
      ],
      "metadata": {
        "id": "ZJWIBefETg4_"
      }
    },
    {
      "cell_type": "code",
      "source": [
        "def move_hyphen(str):\n",
        "    if str is None:\n",
        "        return Null\n",
        "    hyphen=\"\"\n",
        "    chars=\"\"\n",
        "    for char in str:\n",
        "        if char==\"-\":\n",
        "            hyphen+=char\n",
        "        else:\n",
        "            chars+=char\n",
        "    return hyphen+chars\n",
        "string=input()\n",
        "output_str = move_hyphen(string)\n",
        "print(output_str)"
      ],
      "metadata": {
        "id": "B-dcWAYWTkck",
        "outputId": "1f6bfcbc-dbb9-41ad-a87e-6c1dadd6f888",
        "colab": {
          "base_uri": "https://localhost:8080/"
        }
      },
      "execution_count": null,
      "outputs": [
        {
          "output_type": "stream",
          "name": "stdout",
          "text": [
            "String-Compare\n",
            "-StringCompare\n"
          ]
        }
      ]
    },
    {
      "cell_type": "markdown",
      "source": [
        "## **Task-10**"
      ],
      "metadata": {
        "id": "8AFejLqBlGs3"
      }
    },
    {
      "cell_type": "code",
      "source": [
        "def NumberOfCarries(num1,num2):\n",
        "    carry=0\n",
        "    carries=0\n",
        "    while num1>0 or num2>0:\n",
        "        digit1=num1%10\n",
        "        digit2=num2%10\n",
        "        sum=digit1+digit2+carry\n",
        "        if sum>9:\n",
        "            carry=1\n",
        "            carries+=1\n",
        "        else:\n",
        "            carry=0\n",
        "        num1//=10\n",
        "        num2//=10\n",
        "    return carries\n",
        "num1=int(input())\n",
        "num2=int(input())\n",
        "result=NumberOfCarries(num1, num2)\n",
        "print(result)"
      ],
      "metadata": {
        "id": "ED2MJhndlKQC",
        "outputId": "2f48c874-3a5b-42d7-e44b-ed2c0e56033c",
        "colab": {
          "base_uri": "https://localhost:8080/"
        }
      },
      "execution_count": null,
      "outputs": [
        {
          "output_type": "stream",
          "name": "stdout",
          "text": [
            "451\n",
            "349\n",
            "2\n"
          ]
        }
      ]
    },
    {
      "cell_type": "markdown",
      "source": [
        "## **Task-11**"
      ],
      "metadata": {
        "id": "itOgAIs2aECZ"
      }
    },
    {
      "cell_type": "code",
      "source": [
        "def ReplaceCharacter(string, ch1, ch2):\n",
        "    if string is None:\n",
        "        return None\n",
        "    char1,char2 = False, False\n",
        "    for char in string:\n",
        "        if char == ch1:\n",
        "            char1 = True\n",
        "        elif char == ch2:\n",
        "            char2 = True\n",
        "    if not (char1 and char2) or ch1 == ch2:\n",
        "        return string\n",
        "    new_string = \"\"\n",
        "    for char in string:\n",
        "        if char==ch1:\n",
        "            new_string+=ch2\n",
        "        elif char==ch2:\n",
        "            new_string+=ch1\n",
        "        else:\n",
        "            new_string+=char\n",
        "    return new_string\n",
        "str_input = input()\n",
        "ch1_input = input()\n",
        "ch2_input = input()\n",
        "output = ReplaceCharacter(str_input, ch1_input, ch2_input)\n",
        "print(output)\n"
      ],
      "metadata": {
        "colab": {
          "base_uri": "https://localhost:8080/"
        },
        "id": "qzNoD2zlaHoi",
        "outputId": "5ec1499f-b32b-40ce-dd0d-90a995c77c62"
      },
      "execution_count": null,
      "outputs": [
        {
          "output_type": "stream",
          "name": "stdout",
          "text": [
            "apple\n",
            "a\n",
            "p\n",
            "paale\n"
          ]
        }
      ]
    },
    {
      "cell_type": "markdown",
      "source": [
        "## **Task-12**"
      ],
      "metadata": {
        "id": "zIQ0BWxAsJbg"
      }
    },
    {
      "cell_type": "code",
      "source": [
        "def OperationChoices(c, a, b):\n",
        "    if c==1:\n",
        "      return a + b\n",
        "    elif c==2:\n",
        "      return a - b\n",
        "    elif c==3:\n",
        "      return a * b\n",
        "    elif c==4:\n",
        "      return a // b\n",
        "    else:\n",
        "        return None\n",
        "c = int(input())\n",
        "a = int(input())\n",
        "b = int(input())\n",
        "result = OperationChoices(c, a, b)\n",
        "print(result)"
      ],
      "metadata": {
        "id": "uR0D8KhqsOYB",
        "outputId": "7b8b2036-77c9-4cc6-d214-9e76b9de6108",
        "colab": {
          "base_uri": "https://localhost:8080/"
        }
      },
      "execution_count": null,
      "outputs": [
        {
          "output_type": "stream",
          "name": "stdout",
          "text": [
            "2\n",
            "20\n",
            "16\n",
            "4\n"
          ]
        }
      ]
    },
    {
      "cell_type": "markdown",
      "source": [
        "## **Task-13**"
      ],
      "metadata": {
        "id": "OL-YeGAudMw_"
      }
    },
    {
      "cell_type": "code",
      "source": [
        "def exponent_of_2(num):\n",
        "    count=0\n",
        "    while num%2==0:\n",
        "        num//=2\n",
        "        count+=1\n",
        "    return count\n",
        "def MaxExponents(a,b):\n",
        "    max=a\n",
        "    max_exponent=exponent_of_2(a)\n",
        "    for i in range(a,b+1):\n",
        "        current_exponent=exponent_of_2(i)\n",
        "        if current_exponent>max_exponent or current_exponent==max_exponent and i<max:\n",
        "            max=i\n",
        "            max_exponent=current_exponent\n",
        "    return max\n",
        "a=int(input())\n",
        "b=int(input())\n",
        "result=MaxExponents(a,b)\n",
        "print(result)"
      ],
      "metadata": {
        "colab": {
          "base_uri": "https://localhost:8080/"
        },
        "id": "wXHh2i87dQ79",
        "outputId": "18a4c031-c80e-4f6d-d238-9a333647cbdd"
      },
      "execution_count": null,
      "outputs": [
        {
          "output_type": "stream",
          "name": "stdout",
          "text": [
            "7\n",
            "12\n",
            "8\n"
          ]
        }
      ]
    },
    {
      "cell_type": "markdown",
      "source": [
        "## **Task-14**"
      ],
      "metadata": {
        "id": "c1etEvcfNR8z"
      }
    },
    {
      "cell_type": "code",
      "source": [
        "def calculate(m,n):\n",
        "    sum=0\n",
        "    for num in range(m,n+1):\n",
        "        if num%3==0 and num%5==0:\n",
        "            sum+=num\n",
        "    return sum\n",
        "m = int(input())\n",
        "n = int(input())\n",
        "result = calculate(m, n)\n",
        "print(result)"
      ],
      "metadata": {
        "colab": {
          "base_uri": "https://localhost:8080/"
        },
        "id": "Td0WDg3nNVie",
        "outputId": "c0808d1c-28c2-4997-d75d-d8a3efb105e3"
      },
      "execution_count": null,
      "outputs": [
        {
          "output_type": "stream",
          "name": "stdout",
          "text": [
            "12\n",
            "50\n",
            "90\n"
          ]
        }
      ]
    },
    {
      "cell_type": "markdown",
      "source": [
        "## **Task-15**"
      ],
      "metadata": {
        "id": "xn7m4naT_Bxe"
      }
    },
    {
      "cell_type": "code",
      "source": [
        "def sort(arr):\n",
        "    n = len(arr)\n",
        "    for i in range(n):\n",
        "        swap=False\n",
        "        for j in range(0,n-i-1):\n",
        "            if arr[j]>arr[j+1]:\n",
        "                arr[j],arr[j+1]=arr[j+1],arr[j]\n",
        "                swap=True\n",
        "        if not swap:\n",
        "            break\n",
        "def divide_and_sort_matrices(matrix):\n",
        "    even_matrix=[]\n",
        "    odd_matrix=[]\n",
        "    for i in range(len(matrix)):\n",
        "        if i%2==0:\n",
        "            even_matrix.append(matrix[i])\n",
        "        else:\n",
        "            odd_matrix.append(matrix[i])\n",
        "    sort(even_matrix)\n",
        "    sort(odd_matrix)\n",
        "    return even_matrix, odd_matrix\n",
        "def sum_of_second_largest(matrix):\n",
        "    if len(matrix)<2:\n",
        "        return 0\n",
        "    return matrix[-2]+matrix[-2]\n",
        "if __name__==\"__main__\":\n",
        "    size=int(input())\n",
        "    matrix=list(map(int, input().split()))\n",
        "    even_matrix,odd_matrix=divide_and_sort_matrices(matrix)\n",
        "    print(*even_matrix)\n",
        "    print(*odd_matrix)\n",
        "    sum_even_second_largest=sum_of_second_largest(even_matrix)\n",
        "    sum_odd_second_largest=sum_of_second_largest(odd_matrix)\n",
        "    print(sum_even_second_largest + sum_odd_second_largest)"
      ],
      "metadata": {
        "colab": {
          "base_uri": "https://localhost:8080/"
        },
        "id": "LdzMQf0P_FQm",
        "outputId": "5d98bfd1-4fd3-47c5-d183-b848e0bd7281"
      },
      "execution_count": null,
      "outputs": [
        {
          "output_type": "stream",
          "name": "stdout",
          "text": [
            "7\n",
            "5 3 4 1 7 9 2\n",
            "2 4 5 7\n",
            "1 3 9\n",
            "16\n"
          ]
        }
      ]
    },
    {
      "cell_type": "markdown",
      "source": [
        "## **Task-16**"
      ],
      "metadata": {
        "id": "mdDnbRJLEamH"
      }
    },
    {
      "cell_type": "code",
      "source": [
        "#include <stdio.h>\n",
        "int main() {\n",
        "    int num;\n",
        "    printf(\"Enter the number:\");\n",
        "    scanf(\"%d\", &num);\n",
        "    int sum=0;\n",
        "    printf(num);\n",
        "    for (int i=1;i<=10;i++) {\n",
        "        int multiple=num*i;\n",
        "        printf(multiple);\n",
        "        sum+=multiple;\n",
        "        if (i<10)\n",
        "        {\n",
        "            printf(\", \");\n",
        "        } else {\n",
        "            printf(\"\\n\");\n",
        "        }\n",
        "    }\n",
        "    printf(sum);\n",
        "    return 0;\n",
        "}"
      ],
      "metadata": {
        "id": "BuB9Ny3JEe-O"
      },
      "execution_count": null,
      "outputs": []
    },
    {
      "cell_type": "markdown",
      "source": [
        "## **Task-17**"
      ],
      "metadata": {
        "id": "KwY8HCmWmy-N"
      }
    },
    {
      "cell_type": "code",
      "source": [
        "#include <stdio.h>\n",
        "int isPalindrome(int number) {\n",
        "    int reversed=0,temp=number;\n",
        "    while (temp!=0){\n",
        "        reversed=reversed*10+temp%10;\n",
        "        temp/=10;\n",
        "    }\n",
        "    return (reversed==number);\n",
        "}\n",
        "void printIntermediatePalindromes(int lower, int upper) {\n",
        "    printf(lower, upper);\n",
        "    for (int i=lower+1;i<upper;i++) {\n",
        "        if (isPalindrome(i)){\n",
        "            printf(\"%d \",i);\n",
        "        }\n",
        "    }\n",
        "    printf(\"\\n\");\n",
        "}\n",
        "int main() {\n",
        "    int lowerLimit, upperLimit;\n",
        "    scanf(\"%d\", &lowerLimit);\n",
        "    scanf(\"%d\", &upperLimit);\n",
        "    printIntermediatePalindromes(lowerLimit, upperLimit);\n",
        "    return 0;\n",
        "}"
      ],
      "metadata": {
        "id": "C-YKKjyTm2hU"
      },
      "execution_count": null,
      "outputs": []
    },
    {
      "cell_type": "markdown",
      "source": [
        "## **Task-18**"
      ],
      "metadata": {
        "id": "_uAGgAWRoJn7"
      }
    },
    {
      "cell_type": "code",
      "source": [
        "def calculate_distance(x1,y1,x2,y2):\n",
        "    return math.sqrt((x2-x1)**2+(y2-y1)**2)\n",
        "def sum_of_distances(x1,y1,x2,y2,x3,y3):\n",
        "    distance_1=calculate_distance(x1,y1,x2,y2)\n",
        "    distance_2=calculate_distance(x1,y1,x3,y3)\n",
        "    distance_3=calculate_distance(x2,y2,x3,y3)\n",
        "    return distance_1+distance_2+distance_3\n",
        "x1=float(input())\n",
        "y1=float(input())\n",
        "x2=float(input())\n",
        "y2=float(input())\n",
        "x3=float(input())\n",
        "y3=float(input())\n",
        "sum_distances=sum_of_distances(x1,y1,x2,y2,x3,y3)\n",
        "print(sum_distances)"
      ],
      "metadata": {
        "id": "rySj59nZoNO3"
      },
      "execution_count": null,
      "outputs": []
    },
    {
      "cell_type": "markdown",
      "source": [
        "## **Task-19**"
      ],
      "metadata": {
        "id": "t5nVdp3UjdeP"
      }
    },
    {
      "cell_type": "code",
      "source": [
        "def max_array(arr):\n",
        "    if not arr:\n",
        "        print(\"Array is empty\")\n",
        "        return\n",
        "    max_element=arr[0]\n",
        "    max_index=0\n",
        "\n",
        "    for i in range(1,len(arr)):\n",
        "        if arr[i]>max_element:\n",
        "            max_element=arr[i]\n",
        "            max_index=i\n",
        "    print(max_element)\n",
        "    print(max_index)\n",
        "user_input = input()\n",
        "arr = [int(x) for x in user_input.split()]\n",
        "max_array(arr)"
      ],
      "metadata": {
        "colab": {
          "base_uri": "https://localhost:8080/"
        },
        "id": "M-hPS8SdjhSK",
        "outputId": "9cc1645b-fa9a-48a0-a052-d654b654b410"
      },
      "execution_count": null,
      "outputs": [
        {
          "output_type": "stream",
          "name": "stdout",
          "text": [
            "23 45 82 27 66 12 78 13 71 86 \n",
            "86\n",
            "9\n"
          ]
        }
      ]
    }
  ]
}